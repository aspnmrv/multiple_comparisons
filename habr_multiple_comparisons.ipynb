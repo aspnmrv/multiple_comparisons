{
 "cells": [
  {
   "cell_type": "code",
   "execution_count": null,
   "id": "a5c75234",
   "metadata": {
    "ExecuteTime": {
     "end_time": "2023-11-05T20:02:17.097094Z",
     "start_time": "2023-11-05T20:02:16.049428Z"
    }
   },
   "outputs": [],
   "source": [
    "import pandas as pd\n",
    "import numpy as np\n",
    "import warnings\n",
    "import matplotlib.pyplot as plt\n",
    "import requests, time\n",
    "import seaborn as sns\n",
    "\n",
    "from datetime import datetime, timedelta\n",
    "from io import StringIO\n",
    "from scipy import stats\n",
    "from tqdm import tqdm\n",
    "from statsmodels.stats.weightstats import ztest as ztest\n",
    "from statsmodels.sandbox.stats.multicomp import multipletests\n",
    "from statsmodels.stats.power import TTestIndPower\n",
    "from typing import List\n",
    "\n",
    "from ambrosia.designer import Designer, design, load_from_config"
   ]
  },
  {
   "cell_type": "code",
   "execution_count": null,
   "id": "04ce42ec",
   "metadata": {
    "ExecuteTime": {
     "end_time": "2023-11-05T20:02:17.132616Z",
     "start_time": "2023-11-05T20:02:17.130397Z"
    }
   },
   "outputs": [],
   "source": [
    "import warnings\n",
    "warnings.filterwarnings('ignore')"
   ]
  },
  {
   "cell_type": "markdown",
   "id": "95d88c42",
   "metadata": {},
   "source": [
    "# Simulation of a standard experiment with two groups"
   ]
  },
  {
   "cell_type": "code",
   "execution_count": null,
   "id": "8a325851",
   "metadata": {
    "ExecuteTime": {
     "end_time": "2023-11-05T20:02:18.592121Z",
     "start_time": "2023-11-05T20:02:18.098582Z"
    }
   },
   "outputs": [],
   "source": [
    "pvalues_list = list()\n",
    "alpha = 0.05\n",
    "mu = 5\n",
    "std = 1\n",
    "group_size = 200\n",
    "np.random.seed(42)\n",
    "\n",
    "for _ in tqdm(range(1000)):\n",
    "    p_values = list()\n",
    "    control = np.random.normal(mu, std, group_size)\n",
    "    treatment = np.random.normal(mu, std, group_size)\n",
    "    \n",
    "    pvalue = stats.ttest_ind(control, treatment)[1] # here the probability of a type I error = 0.05\n",
    "    \n",
    "    if pvalue < 0.05:\n",
    "        pvalues_list.append(1)\n",
    "    else:\n",
    "        pvalues_list.append(0)\n",
    "\n",
    "print(f\"Ошибка I рода: {np.mean(pvalues_list)}\")"
   ]
  },
  {
   "cell_type": "markdown",
   "id": "369f558b",
   "metadata": {},
   "source": [
    "The Type I error is ~0.05 as expected"
   ]
  },
  {
   "cell_type": "code",
   "execution_count": null,
   "id": "8f2f867d",
   "metadata": {
    "ExecuteTime": {
     "end_time": "2023-11-05T20:02:21.352067Z",
     "start_time": "2023-11-05T20:02:19.886361Z"
    }
   },
   "outputs": [],
   "source": [
    "pvalues_list = list()\n",
    "alpha = 0.05\n",
    "mu = 5\n",
    "std = 1\n",
    "group_size = 200\n",
    "np.random.seed(42)\n",
    "\n",
    "for _ in tqdm(range(1000)):\n",
    "    p_values = list()\n",
    "    control = np.random.normal(mu, std, group_size)\n",
    "    treatment1 = np.random.normal(mu, std, group_size)\n",
    "    treatment2 = np.random.normal(mu, std, group_size)\n",
    "    \n",
    "    pvalue_a = stats.ttest_ind(control, treatment1)[1] # here the probability of a type I error = 0.05\n",
    "    pvalue_b = stats.ttest_ind(control, treatment2)[1] # here the probability of a type I error = 0.05\n",
    "    pvalue_c = stats.ttest_ind(treatment1, treatment2)[1] # and here the probability of a type I error = 0.05\n",
    "    \n",
    "    # in total, the probability of being wrong in at least one of the cases = 1 - P(we will never make a mistake) = 1 - (0.95 ** 3) ~= 0.14\n",
    "    \n",
    "    if pvalue_a < 0.05 or pvalue_b < 0.05 or pvalue_c < 0.05:\n",
    "        pvalues_list.append(1)\n",
    "    else:\n",
    "        pvalues_list.append(0)\n",
    "\n",
    "print(f\"Групповая вероятность ошибки I рода: {np.mean(pvalues_list)}\")"
   ]
  },
  {
   "cell_type": "markdown",
   "id": "62157f7d",
   "metadata": {},
   "source": [
    "Type I error is much greater than 0.05"
   ]
  },
  {
   "cell_type": "markdown",
   "id": "85952ec0",
   "metadata": {},
   "source": [
    "## Change in FWER depending on the number of comparisons"
   ]
  },
  {
   "cell_type": "code",
   "execution_count": null,
   "id": "2a9c0e47",
   "metadata": {
    "ExecuteTime": {
     "end_time": "2023-11-05T20:02:21.433416Z",
     "start_time": "2023-11-05T20:02:21.430420Z"
    }
   },
   "outputs": [],
   "source": [
    "n_list = np.arange(1, 100)\n",
    "\n",
    "result = {}\n",
    "\n",
    "for n in n_list:\n",
    "    result[n] = 1 - (1 - 0.05) ** n"
   ]
  },
  {
   "cell_type": "code",
   "execution_count": null,
   "id": "7668dcfa",
   "metadata": {
    "ExecuteTime": {
     "end_time": "2023-11-05T20:02:21.927434Z",
     "start_time": "2023-11-05T20:02:21.785473Z"
    }
   },
   "outputs": [],
   "source": [
    "plt.plot(list(result.keys()), list(result.values()))\n",
    "plt.title(\"FWER\")\n",
    "plt.xlabel(\"Number of hypotheses\")\n",
    "plt.ylabel(\"FWER\")\n",
    "plt.grid()\n",
    "plt.show()"
   ]
  },
  {
   "cell_type": "markdown",
   "id": "30bd1936",
   "metadata": {},
   "source": [
    "### Functions for correction methods that will be useful later"
   ]
  },
  {
   "cell_type": "code",
   "execution_count": null,
   "id": "db864aea",
   "metadata": {
    "ExecuteTime": {
     "end_time": "2023-11-05T20:02:24.589627Z",
     "start_time": "2023-11-05T20:02:24.586030Z"
    }
   },
   "outputs": [],
   "source": [
    "def method_without_correct(p_values: List[float], alpha: float = 0.05):\n",
    "    \"\"\"The function returns the comparison result without corrections\"\"\"\n",
    "    \n",
    "    res = (np.array(p_values) <= alpha).astype(int)\n",
    "    return res"
   ]
  },
  {
   "cell_type": "code",
   "execution_count": null,
   "id": "74eb5a63",
   "metadata": {
    "ExecuteTime": {
     "end_time": "2023-11-05T20:02:24.763630Z",
     "start_time": "2023-11-05T20:02:24.760760Z"
    }
   },
   "outputs": [],
   "source": [
    "def method_bonferroni(p_values: List[float], alpha: float = 0.05):\n",
    "    \"\"\"The function returns the comparison result with Bonferroni correction\"\"\"\n",
    "    \n",
    "    return (multipletests(p_values, alpha=alpha, method=\"bonferroni\")[0]).astype(int)\n"
   ]
  },
  {
   "cell_type": "code",
   "execution_count": null,
   "id": "16e8a09b",
   "metadata": {
    "ExecuteTime": {
     "end_time": "2023-11-05T21:33:11.506364Z",
     "start_time": "2023-11-05T21:33:11.503424Z"
    }
   },
   "outputs": [],
   "source": [
    "def method_holm(p_values: List[float], alpha: float = 0.05):\n",
    "    \"\"\"The function returns the comparison result with Holm correction\"\"\"\n",
    "    \n",
    "    return (multipletests(p_values, alpha=alpha, method=\"holm\")[0]).astype(int)"
   ]
  },
  {
   "cell_type": "code",
   "execution_count": null,
   "id": "a0638a88",
   "metadata": {
    "ExecuteTime": {
     "end_time": "2023-11-05T21:33:11.616224Z",
     "start_time": "2023-11-05T21:33:11.613338Z"
    }
   },
   "outputs": [],
   "source": [
    "def method_benjamini_hochberg(p_values: List[float], alpha: float = 0.05):\n",
    "    \"\"\"The function returns the comparison result with Benjamini-Hochberg correction\"\"\"\n",
    "    \n",
    "    return (multipletests(p_values, alpha=alpha, method=\"fdr_bh\")[0]).astype(int)"
   ]
  },
  {
   "cell_type": "markdown",
   "id": "7118805e",
   "metadata": {},
   "source": [
    "### Functions for demonstrating graphs with the behavior of the methods in question"
   ]
  },
  {
   "cell_type": "code",
   "execution_count": null,
   "id": "953ee329",
   "metadata": {
    "ExecuteTime": {
     "end_time": "2023-11-05T20:02:29.211303Z",
     "start_time": "2023-11-05T20:02:29.203634Z"
    }
   },
   "outputs": [],
   "source": [
    "def draw_plot(methods: List[str], num_of_tests: List[int], metric: str, result: dict, title: str) -> None:\n",
    "    \"\"\"Visualization of a plot of errors depending on the number of comparisons\"\"\"\n",
    "    \n",
    "    sns.set(style=\"darkgrid\")\n",
    "    fig, ax = plt.subplots(1, 1, figsize=(8, 5), dpi=200)\n",
    "    \n",
    "    method_markup = dict()\n",
    "    \n",
    "    for method in methods:\n",
    "        if method == \"without_correct\":\n",
    "            method_markup[method] = [\"-v\"]\n",
    "        elif method == \"bonferroni\":\n",
    "            method_markup[method] = [\"-o\"]\n",
    "        elif method == \"holm\":\n",
    "            method_markup[method] = [\"-o\"]\n",
    "        else:\n",
    "            method_markup[method] = [\"->\"]\n",
    "    \n",
    "    if metric in (\"fwer\", \"fdr\"):\n",
    "        ax.hlines(alpha, 0, max(num_of_tests), linestyles='--', label=f\"alpha={alpha}\", color=\"red\")\n",
    "    else:\n",
    "        ax.hlines(0.2, 0, max(num_of_tests), linestyles='--', label=\"beta=0.2\", color='r')\n",
    "    \n",
    "    for method, value in result.items():\n",
    "        ax.plot(value.keys(), value.values(), method_markup[method][0], label=method, alpha=0.7)\n",
    "        ax.legend(fontsize=12)\n",
    "        ax.set_title(title)\n",
    "        ax.set_xlabel(\"Experiments, num\")\n",
    "        ax.set_ylabel(title)\n",
    "    \n",
    "    return\n"
   ]
  },
  {
   "cell_type": "code",
   "execution_count": null,
   "id": "40e8f739",
   "metadata": {
    "ExecuteTime": {
     "end_time": "2023-11-05T20:35:00.251630Z",
     "start_time": "2023-11-05T20:35:00.243505Z"
    }
   },
   "outputs": [],
   "source": [
    "def get_errors(result: dict, metric: str, methods: list, num_of_tests: list, no_effect_type: int) -> dict:\n",
    "    \"\"\"Function for calculating errors\"\"\"\n",
    "    \n",
    "    errors_dict = {\n",
    "        method_name: {\n",
    "            num: []\n",
    "            for num in num_of_tests\n",
    "        }\n",
    "        for method_name in methods\n",
    "    }\n",
    "\n",
    "    for method, params in result.items():\n",
    "        if metric == \"fdr\":\n",
    "            for cnt, val in params.items():\n",
    "                if no_effect_type == -1:\n",
    "                    cnt_groups_no_effects = 1\n",
    "                elif no_effect_type == 0:\n",
    "                    cnt_groups_no_effects = cnt // 2\n",
    "                else:\n",
    "                    cnt_groups_no_effects = cnt - 1\n",
    "                fp = np.array(val[\"first\"]) * (cnt - cnt_groups_no_effects)\n",
    "                tp = (1 - np.array(val[\"second\"])) * cnt\n",
    "                fp_tp = fp + tp\n",
    "                fp_tp[fp_tp < 1] = 1\n",
    "                errors_dict[method][cnt] = np.mean(fp / fp_tp)\n",
    "        elif metric == \"fwer\":\n",
    "            for cnt, val in params.items():\n",
    "                errors_dict[method][cnt] = np.mean(np.array(val[\"first\"]) > 0)\n",
    "        elif metric == \"error_type_II\":\n",
    "            for cnt, val in params.items():\n",
    "                errors_dict[method][cnt] = np.mean(val[\"second\"])\n",
    "        else:\n",
    "            for cnt, val in params.items():\n",
    "                errors_dict[method][cnt] = np.mean(np.array(val[\"second\"]) > 0)\n",
    "\n",
    "    return errors_dict\n"
   ]
  },
  {
   "cell_type": "code",
   "execution_count": null,
   "id": "78d67401",
   "metadata": {
    "ExecuteTime": {
     "end_time": "2023-11-05T20:02:29.774941Z",
     "start_time": "2023-11-05T20:02:29.767784Z"
    }
   },
   "outputs": [],
   "source": [
    "def construct_groups(num: int, cnt_groups_no_effects: int, metric: str, \n",
    "                     mu: float, std: float, group_size: str, effect: float) -> list:\n",
    "    \"\"\"Function for forming groups\"\"\"\n",
    "    \n",
    "    groups_list = list()\n",
    "    \n",
    "    for _ in range(num):\n",
    "        if metric == \"fwer\":\n",
    "            groups_list.append((np.random.normal(mu, std, group_size), np.random.normal(mu, std, group_size)))\n",
    "        elif metric in (\"fwer II\", \"error_type_II\"):\n",
    "            groups_list.append((np.random.normal(mu, std, group_size),\n",
    "                    np.random.normal(mu * (1 + effect), std, group_size)\n",
    "                )\n",
    "            )\n",
    "        else:\n",
    "            for _ in range(cnt_groups_no_effects):\n",
    "                groups_list.append((np.random.normal(mu, std, group_size), np.random.normal(mu, std, group_size)))\n",
    "\n",
    "            for _ in range(num - cnt_groups_no_effects):\n",
    "                groups_list.append((np.random.normal(mu, std, group_size),\n",
    "                        np.random.normal(mu * (1 + effect), std, group_size)\n",
    "                    )\n",
    "                )\n",
    "    return groups_list"
   ]
  },
  {
   "cell_type": "code",
   "execution_count": null,
   "id": "e008364f",
   "metadata": {
    "ExecuteTime": {
     "end_time": "2023-11-05T20:02:30.262295Z",
     "start_time": "2023-11-05T20:02:30.250803Z"
    }
   },
   "outputs": [],
   "source": [
    "def get_plot_metrics(methods: list, num_of_tests: list, metric: str, \n",
    "                     title: str, group_size: int = 100, effect: float = 0.0,\n",
    "    mu: float = 5.0, std: float = 1, n_iter: int = 300, alpha: float = 0.05, no_effect_type: int = 0) -> None:\n",
    "    \"\"\"\"\"\"\n",
    "    if metric not in (\"fwer\", \"fwer II\", \"fdr\", \"error_type_II\"):\n",
    "        return \"Incorrect Method Name\"\n",
    "    \n",
    "    result = {\n",
    "        method: {num: {\"first\": [], \"second\": []} for num in num_of_tests} for method in methods\n",
    "    }\n",
    "    \n",
    "    \n",
    "    for num in tqdm(num_of_tests):\n",
    "        cnt_groups_no_effects = 0\n",
    "        if metric == \"fdr\":\n",
    "            if no_effect_type == -1:\n",
    "                cnt_groups_no_effects = 1\n",
    "            elif no_effect_type == 0:\n",
    "                cnt_groups_no_effects = num // 2\n",
    "            else:\n",
    "                cnt_groups_no_effects = num - 1\n",
    "        \n",
    "        for _ in range(n_iter):\n",
    "            groups_list = construct_groups(num, cnt_groups_no_effects, metric, mu, std, group_size, effect)\n",
    "\n",
    "            p_values = list()\n",
    "    \n",
    "            for control, treatment in groups_list:\n",
    "                p_values.append(stats.ttest_ind(control, treatment)[1])\n",
    "\n",
    "            for method in methods:\n",
    "                if method == \"without_correct\":\n",
    "                    func = method_without_correct\n",
    "                elif method == \"bonferroni\":\n",
    "                    func = method_bonferroni\n",
    "                elif method == \"holm\":\n",
    "                    func = method_holm\n",
    "                else:\n",
    "                    func = method_benjamini_hochberg\n",
    "                \n",
    "                if metric in (\"fwer\", \"fwer II\", \"error_type_II\"):\n",
    "                    result[method][num][\"first\"].append(np.mean(func(p_values)))\n",
    "                    result[method][num][\"second\"].append(\n",
    "                        1 - np.mean(func(p_values))\n",
    "                    )\n",
    "                else:\n",
    "                    result[method][num][\"first\"].append(np.mean(func(p_values)[:cnt_groups_no_effects]))\n",
    "                    result[method][num][\"second\"].append(\n",
    "                        1 - np.mean(func(p_values)[cnt_groups_no_effects:])\n",
    "                    )\n",
    "\n",
    "    errors = get_errors(result, metric, methods, num_of_tests, no_effect_type)\n",
    "    \n",
    "    if metric == \"fwer\":\n",
    "        draw_plot(methods, num_of_tests, metric, errors, title)\n",
    "    elif metric == \"fwer II\":\n",
    "        draw_plot(methods, num_of_tests, metric, errors, title)\n",
    "    else:\n",
    "        draw_plot(methods, num_of_tests, metric, errors, title)\n",
    "\n",
    "    return \n"
   ]
  },
  {
   "cell_type": "markdown",
   "id": "63267fd0",
   "metadata": {},
   "source": [
    "List of methods that will be passed to the function for drawing a graph"
   ]
  },
  {
   "cell_type": "code",
   "execution_count": null,
   "id": "71a96b0b",
   "metadata": {
    "ExecuteTime": {
     "end_time": "2023-11-05T20:02:31.390058Z",
     "start_time": "2023-11-05T20:02:31.387407Z"
    }
   },
   "outputs": [],
   "source": [
    "methods = [\n",
    "    \"without_correct\",\n",
    "    \"bonferroni\",\n",
    "    \"holm\",\n",
    "    \"benjamini-hochberg\"\n",
    "]"
   ]
  },
  {
   "cell_type": "markdown",
   "id": "eac401cd",
   "metadata": {},
   "source": [
    "Drawing a graph showing the behavior of the methods in question depending on the specified parameters"
   ]
  },
  {
   "cell_type": "markdown",
   "id": "e329cf78",
   "metadata": {},
   "source": [
    "## FWER"
   ]
  },
  {
   "cell_type": "markdown",
   "id": "8f2c67d3",
   "metadata": {},
   "source": [
    "### Bonferroni"
   ]
  },
  {
   "cell_type": "markdown",
   "id": "3bb13366",
   "metadata": {},
   "source": [
    "#### Checking FWER control using the Bonferroni method"
   ]
  },
  {
   "cell_type": "code",
   "execution_count": null,
   "id": "d9a566bf",
   "metadata": {
    "ExecuteTime": {
     "end_time": "2023-11-05T20:02:33.523785Z",
     "start_time": "2023-11-05T20:02:33.521204Z"
    }
   },
   "outputs": [],
   "source": [
    "methods = [\n",
    "    \"without_correct\",\n",
    "    \"bonferroni\",\n",
    "#     \"holm\",\n",
    "#     \"benjamini-hochberg\"\n",
    "]"
   ]
  },
  {
   "cell_type": "code",
   "execution_count": null,
   "id": "fdd42acd",
   "metadata": {
    "ExecuteTime": {
     "end_time": "2023-11-05T20:02:33.819286Z",
     "start_time": "2023-11-05T20:02:33.808494Z"
    }
   },
   "outputs": [],
   "source": [
    "power_analysis = TTestIndPower()\n",
    "\n",
    "effect_size = power_analysis.solve_power(\n",
    "    power=0.8, \n",
    "    alpha=0.05,\n",
    "    nobs1=100,\n",
    "    alternative=\"two-sided\"\n",
    ")\n",
    "\n",
    "print(f\"Effect size (MDE) to add to test group: {round(effect_size, 3)}\")"
   ]
  },
  {
   "cell_type": "code",
   "execution_count": null,
   "id": "0a78df3b",
   "metadata": {
    "ExecuteTime": {
     "end_time": "2023-11-05T20:02:35.311197Z",
     "start_time": "2023-11-05T20:02:35.308414Z"
    }
   },
   "outputs": [],
   "source": [
    "num_of_tests = [1, 2, 3, 5, 10, 30, 50]"
   ]
  },
  {
   "cell_type": "code",
   "execution_count": null,
   "id": "37bfe833",
   "metadata": {
    "ExecuteTime": {
     "end_time": "2023-11-05T20:02:51.961981Z",
     "start_time": "2023-11-05T20:02:35.469482Z"
    }
   },
   "outputs": [],
   "source": [
    "get_plot_metrics(\n",
    "    methods, # list of methods for comparing\n",
    "    num_of_tests, # list of number of comparings\n",
    "    \"fwer\", # type error for drawing\n",
    "    \"FWER\", # title and ylabel for plot\n",
    "    group_size=100,\n",
    "    effect=0.0,\n",
    "    mu=5.0,\n",
    "    std=1,\n",
    "    n_iter=500,\n",
    "    alpha=0.05\n",
    ")"
   ]
  },
  {
   "cell_type": "markdown",
   "id": "f69ef9d9",
   "metadata": {},
   "source": [
    "#### Checking FWER II control using the Bonferroni method"
   ]
  },
  {
   "cell_type": "code",
   "execution_count": null,
   "id": "37c6657f",
   "metadata": {
    "ExecuteTime": {
     "end_time": "2023-11-05T20:04:53.121286Z",
     "start_time": "2023-11-05T20:03:57.394505Z"
    }
   },
   "outputs": [],
   "source": [
    "get_plot_metrics(\n",
    "    methods,\n",
    "    num_of_tests,\n",
    "    \"fwer II\",\n",
    "    \"FWER II\",\n",
    "    group_size=500, # Added a larger sample size to make the graph more readable\n",
    "    effect=0.0398, # mde\n",
    "    mu=5,\n",
    "    std=1,\n",
    "    n_iter=1000,\n",
    "    alpha=0.05\n",
    ")"
   ]
  },
  {
   "cell_type": "markdown",
   "id": "5db2e836",
   "metadata": {},
   "source": [
    "## Holm"
   ]
  },
  {
   "cell_type": "markdown",
   "id": "06424ff3",
   "metadata": {},
   "source": [
    "### Checking FWER control using the Holm method"
   ]
  },
  {
   "cell_type": "code",
   "execution_count": null,
   "id": "65aacbbe",
   "metadata": {
    "ExecuteTime": {
     "end_time": "2023-11-05T20:05:20.634650Z",
     "start_time": "2023-11-05T20:05:20.632026Z"
    }
   },
   "outputs": [],
   "source": [
    "methods = [\n",
    "    \"without_correct\",\n",
    "    \"bonferroni\",\n",
    "    \"holm\",\n",
    "#     \"benjamini-hochberg\"\n",
    "]"
   ]
  },
  {
   "cell_type": "code",
   "execution_count": null,
   "id": "5ee8c5c0",
   "metadata": {
    "ExecuteTime": {
     "end_time": "2023-11-05T20:05:39.582279Z",
     "start_time": "2023-11-05T20:05:22.810817Z"
    }
   },
   "outputs": [],
   "source": [
    "get_plot_metrics(\n",
    "    methods,\n",
    "    num_of_tests,\n",
    "    \"fwer\",\n",
    "    \"FWER\",\n",
    "    group_size=100,\n",
    "    effect=0.0,\n",
    "    mu=5,\n",
    "    std=1,\n",
    "    n_iter=500,\n",
    "    alpha=0.05,\n",
    ")"
   ]
  },
  {
   "cell_type": "markdown",
   "id": "dbe05a35",
   "metadata": {},
   "source": [
    "### Checking FWER II control using the Holm method"
   ]
  },
  {
   "cell_type": "code",
   "execution_count": null,
   "id": "539a0776",
   "metadata": {
    "ExecuteTime": {
     "end_time": "2023-11-05T20:06:27.914080Z",
     "start_time": "2023-11-05T20:05:59.554805Z"
    }
   },
   "outputs": [],
   "source": [
    "get_plot_metrics(\n",
    "    methods,\n",
    "    num_of_tests,\n",
    "    \"fwer II\",\n",
    "    \"FWER II\",\n",
    "    group_size=500,\n",
    "    effect=0.0398,\n",
    "    mu=5,\n",
    "    std=1,\n",
    "    n_iter=500,\n",
    "    alpha=0.05\n",
    ")"
   ]
  },
  {
   "cell_type": "markdown",
   "id": "0a80d2a6",
   "metadata": {},
   "source": [
    "## FDR"
   ]
  },
  {
   "cell_type": "code",
   "execution_count": null,
   "id": "24b799c8",
   "metadata": {
    "ExecuteTime": {
     "end_time": "2023-11-05T20:06:33.798228Z",
     "start_time": "2023-11-05T20:06:33.795576Z"
    }
   },
   "outputs": [],
   "source": [
    "methods = [\n",
    "    \"without_correct\",\n",
    "    \"bonferroni\",\n",
    "    \"holm\",\n",
    "    \"benjamini-hochberg\"\n",
    "]"
   ]
  },
  {
   "cell_type": "markdown",
   "id": "6cbe34c4",
   "metadata": {},
   "source": [
    "### Checking FDR control using the B-H method"
   ]
  },
  {
   "cell_type": "markdown",
   "id": "f559e82b",
   "metadata": {},
   "source": [
    "Half of the hypotheses have an effect, half have no effect"
   ]
  },
  {
   "cell_type": "code",
   "execution_count": null,
   "id": "da667285",
   "metadata": {
    "ExecuteTime": {
     "end_time": "2023-11-05T21:50:37.537425Z",
     "start_time": "2023-11-05T21:41:49.665751Z"
    }
   },
   "outputs": [],
   "source": [
    "get_plot_metrics(\n",
    "    methods,\n",
    "    num_of_tests,\n",
    "    \"fdr\",\n",
    "    \"FDR\",\n",
    "    group_size=20,\n",
    "    effect=0.0398,\n",
    "    mu=5,\n",
    "    std=1,\n",
    "    n_iter=500,\n",
    "    alpha=0.05,\n",
    "    no_effect_type=0\n",
    ")"
   ]
  },
  {
   "cell_type": "markdown",
   "id": "98aa984c",
   "metadata": {},
   "source": [
    "One hypothesis from all without effect, the rest - with effect"
   ]
  },
  {
   "cell_type": "code",
   "execution_count": null,
   "id": "f0f4c5b1",
   "metadata": {
    "ExecuteTime": {
     "end_time": "2023-11-05T20:58:48.019195Z",
     "start_time": "2023-11-05T20:49:43.517748Z"
    }
   },
   "outputs": [],
   "source": [
    "get_plot_metrics(\n",
    "    methods,\n",
    "    num_of_tests,\n",
    "    \"fdr\",\n",
    "    \"FDR\",\n",
    "    group_size=20,\n",
    "    effect=0.0398,\n",
    "    mu=5,\n",
    "    std=1,\n",
    "    n_iter=500,\n",
    "    alpha=0.05,\n",
    "    no_effect_type=-1\n",
    ")"
   ]
  },
  {
   "cell_type": "markdown",
   "id": "44e5bd48",
   "metadata": {},
   "source": [
    "One of all hypotheses has an effect, the rest have no effect"
   ]
  },
  {
   "cell_type": "code",
   "execution_count": null,
   "id": "c9355412",
   "metadata": {
    "ExecuteTime": {
     "end_time": "2023-11-05T21:14:20.783221Z",
     "start_time": "2023-11-05T20:58:48.129074Z"
    }
   },
   "outputs": [],
   "source": [
    "get_plot_metrics(\n",
    "    methods,\n",
    "    num_of_tests,\n",
    "    \"fdr\",\n",
    "    \"FDR\",\n",
    "    group_size=20,\n",
    "    effect=0.0398,\n",
    "    mu=5,\n",
    "    std=1,\n",
    "    n_iter=500,\n",
    "    alpha=0.05,\n",
    "    no_effect_type=1\n",
    ")"
   ]
  },
  {
   "cell_type": "markdown",
   "id": "63b1ac06",
   "metadata": {},
   "source": [
    "# Simulation of experiment with example"
   ]
  },
  {
   "cell_type": "code",
   "execution_count": null,
   "id": "7d49ca0b",
   "metadata": {
    "ExecuteTime": {
     "end_time": "2023-11-05T21:51:06.062598Z",
     "start_time": "2023-11-05T21:51:06.057748Z"
    }
   },
   "outputs": [],
   "source": [
    "def get_sample_size(mu: float, std: float, eff: float = 1.01, alpha: float = 0.05, beta: float = 0.2) -> int:\n",
    "    \"\"\"Function for calculating sample size for t-test\"\"\"\n",
    "    \n",
    "    t_a = abs(stats.norm.ppf(alpha / 2, loc=0, scale=1))\n",
    "    t_b = stats.norm.ppf(1 - beta, loc=0, scale=1)\n",
    "    \n",
    "\n",
    "    mu_sqr = (mu - mu * eff) ** 2\n",
    "        \n",
    "    z_sqr = (t_a + t_b) ** 2\n",
    "    disp = 2 * (std ** 2)\n",
    "\n",
    "    sample_size = int(\n",
    "        np.ceil(\n",
    "            z_sqr * disp / mu_sqr\n",
    "        )\n",
    "    )\n",
    "    return sample_size"
   ]
  },
  {
   "cell_type": "markdown",
   "id": "6d60cd2d",
   "metadata": {},
   "source": [
    "Create a dataframe with a normal metric distribution"
   ]
  },
  {
   "cell_type": "code",
   "execution_count": null,
   "id": "ea4cc330",
   "metadata": {
    "ExecuteTime": {
     "end_time": "2023-11-05T21:51:07.399709Z",
     "start_time": "2023-11-05T21:51:07.339760Z"
    }
   },
   "outputs": [],
   "source": [
    "mu = 10\n",
    "std = 1\n",
    "size_group = 1000000\n",
    "\n",
    "df = pd.DataFrame({\"metric\": np.random.normal(mu, std, size_group)})"
   ]
  },
  {
   "cell_type": "code",
   "execution_count": null,
   "id": "388f86f9",
   "metadata": {
    "ExecuteTime": {
     "end_time": "2023-11-05T21:51:26.227750Z",
     "start_time": "2023-11-05T21:51:26.225106Z"
    }
   },
   "outputs": [],
   "source": [
    "designer = Designer(dataframe=df, metrics=\"metric\")"
   ]
  },
  {
   "cell_type": "markdown",
   "id": "1396dd10",
   "metadata": {},
   "source": [
    "Let's estimate the sample size required to detect the effect using the Ambrosia library"
   ]
  },
  {
   "cell_type": "code",
   "execution_count": null,
   "id": "9f650995",
   "metadata": {
    "ExecuteTime": {
     "end_time": "2023-11-05T21:51:27.040943Z",
     "start_time": "2023-11-05T21:51:27.018112Z"
    }
   },
   "outputs": [],
   "source": [
    "designer = Designer(dataframe=df, metrics=\"metric\")\n",
    "\n",
    "effects = [1.005, 1.05]  # MDE in percents\n",
    "first_type_errors = [0.01, 0.05]\n",
    "second_type_errors = [0.1, 0.2]\n",
    "\n",
    "designer.set_first_errors(first_type_errors)\n",
    "designer.set_second_errors(second_type_errors)\n",
    "\n",
    "designer.run(to_design=\"size\", method=\"theory\", effects=effects)"
   ]
  },
  {
   "cell_type": "markdown",
   "id": "93cb6969",
   "metadata": {},
   "source": [
    "Let's compare the value with our calculation of the minimum sample size"
   ]
  },
  {
   "cell_type": "code",
   "execution_count": null,
   "id": "30211b73",
   "metadata": {
    "ExecuteTime": {
     "end_time": "2023-11-05T21:52:00.096402Z",
     "start_time": "2023-11-05T21:52:00.093573Z"
    }
   },
   "outputs": [],
   "source": [
    "alpha = 0.05\n",
    "beta = 0.2\n",
    "\n",
    "mu = 10\n",
    "std = 1\n",
    "effect = 1.005"
   ]
  },
  {
   "cell_type": "code",
   "execution_count": null,
   "id": "ab9a5727",
   "metadata": {
    "ExecuteTime": {
     "end_time": "2023-11-05T21:52:00.402775Z",
     "start_time": "2023-11-05T21:52:00.399021Z"
    }
   },
   "outputs": [],
   "source": [
    "get_sample_size(mu, std, effect, alpha, beta)"
   ]
  },
  {
   "cell_type": "markdown",
   "id": "6cd998fd",
   "metadata": {},
   "source": [
    "How does sample size depend on type 2 error?"
   ]
  },
  {
   "cell_type": "code",
   "execution_count": null,
   "id": "48bca680",
   "metadata": {
    "ExecuteTime": {
     "end_time": "2023-11-05T21:52:04.359072Z",
     "start_time": "2023-11-05T21:52:04.347655Z"
    }
   },
   "outputs": [],
   "source": [
    "res = {}\n",
    "nums = [0.01, 0.05, 0.1, 0.15, 0.2, 0.25, 0.3, 0.35, 0.4, 0.45, 0.5, 0.55, 0.6, 0.65, 0.7, 0.75, 0.8, 0.85, 0.9]\n",
    "\n",
    "for b in nums:\n",
    "    res[b] = get_sample_size(10, 1, 1.005, 0.05, b)"
   ]
  },
  {
   "cell_type": "code",
   "execution_count": null,
   "id": "0b7db543",
   "metadata": {
    "ExecuteTime": {
     "end_time": "2023-11-05T21:52:05.157082Z",
     "start_time": "2023-11-05T21:52:04.969115Z"
    }
   },
   "outputs": [],
   "source": [
    "plt.plot(res.keys(), res.values())"
   ]
  },
  {
   "cell_type": "markdown",
   "id": "4719e2ae",
   "metadata": {},
   "source": [
    "Function for calculating errors of the first and second types, taking into account sample size"
   ]
  },
  {
   "cell_type": "code",
   "execution_count": null,
   "id": "08e6f8d9",
   "metadata": {
    "ExecuteTime": {
     "end_time": "2023-11-05T21:52:16.029110Z",
     "start_time": "2023-11-05T21:52:16.015041Z"
    }
   },
   "outputs": [],
   "source": [
    "def get_barplot_errors(df: pd.DataFrame, methods: dict, mu: float, std: float, effect: float, \n",
    "                       sample_size: int, n_groups: int, n_iter: int, type_error: str) -> None:\n",
    "    \"\"\"Function for drawing a graph with errors taking into account the sample size\"\"\"\n",
    "    \n",
    "    fwer = {\n",
    "        method_name: []\n",
    "        for method_name in methods\n",
    "    }\n",
    "\n",
    "    error_type_II = {\n",
    "        method_name: []\n",
    "        for method_name in methods\n",
    "    }\n",
    "\n",
    "    fwtr = {\n",
    "        method_name: []\n",
    "        for method_name in methods\n",
    "    }\n",
    "    \n",
    "    values = df[\"metric\"].values\n",
    "    effect = effect\n",
    "    groups = n_groups\n",
    "    np.random.seed(64)\n",
    "\n",
    "    groups_bucket = {\n",
    "        num: []\n",
    "        for num in range(1, groups + 1)\n",
    "    }\n",
    "\n",
    "    result = dict()\n",
    "\n",
    "    for method in methods:\n",
    "        result[method] = {\"first\": list(), \"second\": list()}\n",
    "        \n",
    "    for _ in tqdm(range(n_iter)):\n",
    "        for num in groups_bucket.keys():\n",
    "            if num == 1:\n",
    "                group = np.random.normal(mu * effect, std, int(sample_size))\n",
    "            else:\n",
    "                group = np.random.choice(values, int(sample_size), True)\n",
    "            groups_bucket[num] = group\n",
    "\n",
    "        pvalues = list()\n",
    "\n",
    "        for first_num in range(1, groups + 1):\n",
    "            for second_num in range(first_num + 1, groups + 1):\n",
    "                _, pvalue = stats.ttest_ind(groups_bucket[first_num], groups_bucket[second_num])\n",
    "                pvalues.append(pvalue)\n",
    "\n",
    "        for method, func in methods.items():\n",
    "            result[method][\"first\"].append(np.mean(func(pvalues)[4:]))\n",
    "            result[method][\"second\"].append(\n",
    "                    1 - np.mean(func(pvalues)[:4])\n",
    "                )\n",
    "        \n",
    "    for method, params in result.items():\n",
    "        fwer[method] = np.mean(np.array(params[\"first\"]) > 0)\n",
    "        fwtr[method] = np.mean(np.array(params[\"second\"]) > 0)\n",
    "        error_type_II[method] = np.mean(params[\"second\"])\n",
    "        \n",
    "    if type_error == \"fwer\":\n",
    "        errors = fwer\n",
    "        ylabel = \"FWER\"\n",
    "        label = \"alpha=0.05\"\n",
    "        xline = 0.05\n",
    "    elif type_error == \"fwer II\":\n",
    "        errors = fwtr\n",
    "        ylabel = \"FWER II\"\n",
    "        label = \"beta=0.2\"\n",
    "        xline = 0.2\n",
    "    else:\n",
    "        errors = error_type_II\n",
    "        ylabel = \"Error Type II\"\n",
    "        label = \"beta=0.2\"\n",
    "        xline = 0.2\n",
    "    \n",
    "    sns.set(style=\"darkgrid\")\n",
    "    fig, ax = plt.subplots(1, 1, figsize=(8, 5), dpi=200)\n",
    "    plt.bar(range(len(errors)), list(errors.values()), align=\"center\")\n",
    "    plt.xticks(range(len(errors)), list(errors.keys()))\n",
    "    ax.hlines(xline, -1, 4, linestyles='--', label=label, color='r')\n",
    "    plt.ylabel(ylabel)\n",
    "    plt.xlabel(\"Method\")\n",
    "\n",
    "    plt.show()\n",
    "    \n",
    "    return \n"
   ]
  },
  {
   "cell_type": "code",
   "execution_count": null,
   "id": "bd9bad03",
   "metadata": {
    "ExecuteTime": {
     "end_time": "2023-11-05T21:52:17.336585Z",
     "start_time": "2023-11-05T21:52:17.333864Z"
    }
   },
   "outputs": [],
   "source": [
    "alpha = 0.05\n",
    "beta = 0.2\n",
    "\n",
    "mu = 10\n",
    "std = 1\n",
    "effect = 1.005"
   ]
  },
  {
   "cell_type": "code",
   "execution_count": null,
   "id": "eb85f63b",
   "metadata": {
    "ExecuteTime": {
     "end_time": "2023-11-05T21:52:18.121553Z",
     "start_time": "2023-11-05T21:52:18.118849Z"
    }
   },
   "outputs": [],
   "source": [
    "methods = {\n",
    "    \"without_correct\": method_without_correct,\n",
    "    \"bonferroni\": method_bonferroni,\n",
    "    \"holm\": method_holm,\n",
    "    \"benjamini-hochberg\": method_benjamini_hochberg,\n",
    "}"
   ]
  },
  {
   "cell_type": "code",
   "execution_count": null,
   "id": "339b3dac",
   "metadata": {
    "ExecuteTime": {
     "end_time": "2023-11-05T21:52:45.110185Z",
     "start_time": "2023-11-05T21:52:24.190821Z"
    }
   },
   "outputs": [],
   "source": [
    "get_barplot_errors(df=df, methods=methods, mu=mu, std=std, effect=effect, \n",
    "                       sample_size=6300, n_groups=5, n_iter=3000, type_error=\"fwer\")"
   ]
  },
  {
   "cell_type": "markdown",
   "id": "10d69674",
   "metadata": {},
   "source": [
    "Holm and Bonferroni methods control the FWER at a given level"
   ]
  },
  {
   "cell_type": "code",
   "execution_count": null,
   "id": "c0a564c3",
   "metadata": {
    "ExecuteTime": {
     "end_time": "2023-11-05T21:53:06.054570Z",
     "start_time": "2023-11-05T21:52:45.252804Z"
    }
   },
   "outputs": [],
   "source": [
    "get_barplot_errors(df=df, methods=methods, mu=mu, std=std, effect=effect, \n",
    "                       sample_size=6300, n_groups=5, n_iter=3000, type_error=\"error_type_II\")"
   ]
  },
  {
   "cell_type": "markdown",
   "id": "b3ae2ee4",
   "metadata": {},
   "source": [
    "But the average type II error is higher than the expected value of 0.2"
   ]
  },
  {
   "cell_type": "markdown",
   "id": "a5a4841a",
   "metadata": {},
   "source": [
    "Let's adjust the sample size by adjusting the alpha"
   ]
  },
  {
   "cell_type": "code",
   "execution_count": null,
   "id": "bffbf0ca",
   "metadata": {
    "ExecuteTime": {
     "end_time": "2023-11-05T21:53:13.356845Z",
     "start_time": "2023-11-05T21:53:13.352243Z"
    }
   },
   "outputs": [],
   "source": [
    "groups = 5\n",
    "comparisons = 10\n",
    "\n",
    "correct_alpha = alpha / comparisons\n",
    "sample_size_corrected = get_sample_size(mu, std, effect, correct_alpha, beta)\n",
    "\n",
    "print(f\"Adjusted sample size: {sample_size_corrected}\")"
   ]
  },
  {
   "cell_type": "code",
   "execution_count": null,
   "id": "82ab2609",
   "metadata": {
    "ExecuteTime": {
     "end_time": "2023-11-05T21:53:37.738636Z",
     "start_time": "2023-11-05T21:53:13.902183Z"
    }
   },
   "outputs": [],
   "source": [
    "get_barplot_errors(df=df, methods=methods, mu=mu, std=std, effect=effect, \n",
    "                       sample_size=10651, n_groups=5, n_iter=3000, type_error=\"error_type_II\")"
   ]
  },
  {
   "cell_type": "markdown",
   "id": "40358719",
   "metadata": {},
   "source": [
    "Now the average error of the second type corresponds to the level of 0.2"
   ]
  },
  {
   "cell_type": "markdown",
   "id": "de802acb",
   "metadata": {},
   "source": [
    "Let's try to adjust the sample size by averaging the power"
   ]
  },
  {
   "cell_type": "code",
   "execution_count": null,
   "id": "edc0e458",
   "metadata": {
    "ExecuteTime": {
     "end_time": "2023-11-05T21:53:42.419192Z",
     "start_time": "2023-11-05T21:53:42.411053Z"
    }
   },
   "outputs": [],
   "source": [
    "groups = 5\n",
    "comparisons = 10\n",
    "\n",
    "n_values = list()\n",
    "\n",
    "for i in range(1, comparisons):\n",
    "    n_values.append(get_sample_size(mu, std, effect, alpha / i, beta))\n",
    "\n",
    "print(f\"Adjusted sample size: {int(np.mean(n_values))}\")"
   ]
  },
  {
   "cell_type": "code",
   "execution_count": null,
   "id": "81183aeb",
   "metadata": {
    "ExecuteTime": {
     "end_time": "2023-11-05T21:54:07.220353Z",
     "start_time": "2023-11-05T21:53:44.603944Z"
    }
   },
   "outputs": [],
   "source": [
    "get_barplot_errors(df=df, methods=methods, mu=mu, std=std, effect=effect, \n",
    "                       sample_size=8986, n_groups=5, n_iter=3000, type_error=\"error_type_II\")"
   ]
  },
  {
   "cell_type": "markdown",
   "id": "873210fe",
   "metadata": {},
   "source": [
    "The average type II error is higher than the expected value of 0.2, but acceptable"
   ]
  },
  {
   "cell_type": "markdown",
   "id": "2c4b1728",
   "metadata": {},
   "source": [
    "Let's adjust the sample size by controlling the probability of making at least one type II error"
   ]
  },
  {
   "cell_type": "code",
   "execution_count": null,
   "id": "3fa2d62c",
   "metadata": {
    "ExecuteTime": {
     "end_time": "2023-11-05T21:55:23.858368Z",
     "start_time": "2023-11-05T21:55:23.816884Z"
    }
   },
   "outputs": [],
   "source": [
    "groups = 5\n",
    "comparisons = 10\n",
    "n_values = list()\n",
    "\n",
    "n = get_sample_size(mu, std, effect, alpha, beta)\n",
    "\n",
    "for i in range(1, int(comparisons ** 2)):\n",
    "    n_values.append(get_sample_size(mu, std, effect, alpha / i, beta))\n",
    "\n",
    "print(f\"Adjusted sample size: {int(np.mean(n_values))}\")"
   ]
  },
  {
   "cell_type": "code",
   "execution_count": null,
   "id": "e42c85ee",
   "metadata": {
    "ExecuteTime": {
     "end_time": "2023-11-05T21:55:53.570682Z",
     "start_time": "2023-11-05T21:55:28.335319Z"
    }
   },
   "outputs": [],
   "source": [
    "get_barplot_errors(df=df, methods=methods, mu=mu, std=std, effect=effect, \n",
    "                       sample_size=13125, n_groups=5, n_iter=3000, type_error=\"fwer II\")"
   ]
  },
  {
   "cell_type": "markdown",
   "id": "989b8fe8",
   "metadata": {},
   "source": [
    "For the Holm method, the value of the second type error is close to 0.2"
   ]
  },
  {
   "cell_type": "code",
   "execution_count": null,
   "id": "968c6695",
   "metadata": {},
   "outputs": [],
   "source": []
  }
 ],
 "metadata": {
  "kernelspec": {
   "display_name": "Python 3",
   "language": "python",
   "name": "python3"
  },
  "language_info": {
   "codemirror_mode": {
    "name": "ipython",
    "version": 3
   },
   "file_extension": ".py",
   "mimetype": "text/x-python",
   "name": "python",
   "nbconvert_exporter": "python",
   "pygments_lexer": "ipython3",
   "version": "3.8.3"
  },
  "toc": {
   "base_numbering": 1,
   "nav_menu": {},
   "number_sections": true,
   "sideBar": true,
   "skip_h1_title": false,
   "title_cell": "Table of Contents",
   "title_sidebar": "Contents",
   "toc_cell": false,
   "toc_position": {},
   "toc_section_display": true,
   "toc_window_display": false
  },
  "varInspector": {
   "cols": {
    "lenName": 16,
    "lenType": 16,
    "lenVar": 40
   },
   "kernels_config": {
    "python": {
     "delete_cmd_postfix": "",
     "delete_cmd_prefix": "del ",
     "library": "var_list.py",
     "varRefreshCmd": "print(var_dic_list())"
    },
    "r": {
     "delete_cmd_postfix": ") ",
     "delete_cmd_prefix": "rm(",
     "library": "var_list.r",
     "varRefreshCmd": "cat(var_dic_list()) "
    }
   },
   "types_to_exclude": [
    "module",
    "function",
    "builtin_function_or_method",
    "instance",
    "_Feature"
   ],
   "window_display": false
  }
 },
 "nbformat": 4,
 "nbformat_minor": 5
}
